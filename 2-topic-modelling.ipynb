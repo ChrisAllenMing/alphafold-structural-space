{
 "cells": [
  {
   "cell_type": "code",
   "execution_count": null,
   "metadata": {
    "collapsed": true
   },
   "outputs": [],
   "source": [
    "from sklearn.feature_extraction.text import TfidfVectorizer\n",
    "from sklearn.preprocessing import StandardScaler\n",
    "import itertools\n",
    "from pathlib import Path\n",
    "from sklearn.decomposition import NMF\n",
    "import openTSNE\n",
    "import pickle"
   ]
  },
  {
   "cell_type": "code",
   "execution_count": null,
   "metadata": {
    "pycharm": {
     "name": "#%%\n"
    }
   },
   "outputs": [],
   "source": [
    "DATA_FOLDER = Path(\"data\")"
   ]
  },
  {
   "cell_type": "markdown",
   "metadata": {
    "pycharm": {
     "name": "#%% md\n"
    }
   },
   "source": [
    "Loading all corpus files:"
   ]
  },
  {
   "cell_type": "code",
   "execution_count": null,
   "metadata": {
    "pycharm": {
     "name": "#%%\n"
    }
   },
   "outputs": [],
   "source": [
    "corpus_files = DATA_FOLDER.glob(\"*_ids_corpus_resolution_4_6*.txt\")\n",
    "keys_corpus = (line.strip().split(\"\\t\") for line in itertools.chain.from_iterable((open(file) for file in corpus_files)))\n",
    "keys, corpus = itertools.tee(keys_corpus)\n",
    "keys = [k[0] for k in keys]\n",
    "corpus = (k[1] for k in corpus)"
   ]
  },
  {
   "cell_type": "markdown",
   "metadata": {
    "pycharm": {
     "name": "#%% md\n"
    }
   },
   "source": [
    "Calculating the TFIDF matrix:"
   ]
  },
  {
   "cell_type": "code",
   "execution_count": null,
   "metadata": {
    "pycharm": {
     "name": "#%%\n"
    }
   },
   "outputs": [],
   "source": [
    "print(f\"Getting TFIDF matrix for {len(keys)} proteins...\")\n",
    "vectorizer = TfidfVectorizer(min_df=2)\n",
    "tfidf_matrix = vectorizer.fit_transform(corpus)"
   ]
  },
  {
   "cell_type": "markdown",
   "metadata": {},
   "source": [
    "Fitting NMF model:"
   ]
  },
  {
   "cell_type": "code",
   "execution_count": null,
   "metadata": {
    "pycharm": {
     "name": "#%%\n"
    }
   },
   "outputs": [],
   "source": [
    "num_topics = 250\n",
    "topic_model = NMF(n_components=num_topics,\n",
    "            random_state=42,\n",
    "            solver='cd', tol=0.0005,\n",
    "            max_iter=500,\n",
    "            alpha=.1,\n",
    "            l1_ratio=.5,\n",
    "            verbose=1)\n",
    "w_matrix = topic_model.fit_transform(tfidf_matrix)"
   ]
  },
  {
   "cell_type": "markdown",
   "metadata": {},
   "source": [
    "Normalizing $W$ matrix for plotting:"
   ]
  },
  {
   "cell_type": "code",
   "execution_count": null,
   "metadata": {
    "pycharm": {
     "name": "#%%\n"
    }
   },
   "outputs": [],
   "source": [
    "scaler = StandardScaler()\n",
    "w_matrix_norm = scaler.fit_transform(w_matrix)"
   ]
  },
  {
   "cell_type": "markdown",
   "metadata": {},
   "source": [
    "Fitting t-SNE model initialized with PCA on $W$ matrix:"
   ]
  },
  {
   "cell_type": "code",
   "execution_count": null,
   "metadata": {
    "pycharm": {
     "name": "#%%\n"
    }
   },
   "outputs": [],
   "source": [
    "tsne_reducer = openTSNE.TSNE(\n",
    "        perplexity=50,\n",
    "        initialization=\"pca\",\n",
    "        metric=\"cosine\",\n",
    "        n_jobs=14,\n",
    "        random_state=42,\n",
    "        n_iter=1000,\n",
    "        verbose=True\n",
    "    )\n",
    "reduced = tsne_reducer.fit(w_matrix_norm)"
   ]
  },
  {
   "cell_type": "markdown",
   "metadata": {},
   "source": [
    "Saving everything:"
   ]
  },
  {
   "cell_type": "code",
   "execution_count": null,
   "metadata": {
    "pycharm": {
     "name": "#%%\n"
    }
   },
   "outputs": [],
   "source": [
    "with open(DATA_FOLDER / \"topic_modelling_data.pkl\", \"wb\") as f:\n",
    "    pickle.dump((keys,\n",
    "                 vectorizer, tfidf_matrix,\n",
    "                 topic_model, w_matrix,\n",
    "                 scaler, w_matrix_norm,\n",
    "                 tsne_reducer, reduced), f)"
   ]
  }
 ],
 "metadata": {
  "kernelspec": {
   "display_name": "Python 3",
   "language": "python",
   "name": "python3"
  },
  "language_info": {
   "codemirror_mode": {
    "name": "ipython",
    "version": 3
   },
   "file_extension": ".py",
   "mimetype": "text/x-python",
   "name": "python",
   "nbconvert_exporter": "python",
   "pygments_lexer": "ipython3",
   "version": "3.8.8"
  }
 },
 "nbformat": 4,
 "nbformat_minor": 1
}
